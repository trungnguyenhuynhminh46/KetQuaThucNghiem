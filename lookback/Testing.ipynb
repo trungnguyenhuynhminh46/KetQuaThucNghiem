{
 "cells": [
  {
   "cell_type": "code",
   "execution_count": 1,
   "id": "271a5868",
   "metadata": {},
   "outputs": [],
   "source": [
    "import numpy as np\n",
    "import pandas as pd\n",
    "import os\n",
    "\n",
    "from tensorflow import keras\n",
    "import tensorflow as tf\n",
    "\n",
    "import matplotlib.pyplot as plt\n",
    "import datetime as dt\n",
    "import yfinance as yf\n",
    "yf.pdr_override()\n",
    "from pandas_datareader import data as pdr"
   ]
  },
  {
   "cell_type": "code",
   "execution_count": 2,
   "id": "02af244e",
   "metadata": {},
   "outputs": [],
   "source": [
    "def mse(y_true, y_pred):\n",
    "    return np.mean(np.square(y_true[:,3]-y_pred[:,3]))\n",
    "def mae(y_true, y_pred):\n",
    "    return np.mean(np.abs((y_true[:,3]-y_pred[:,3])))\n",
    "def mape(y_true, y_pred):\n",
    "    return np.mean(np.abs((y_true[:,3]-y_pred[:,3])/y_true[:,3]))\n",
    "def rmse(y_true, y_pred):\n",
    "    return np.sqrt(np.mean(tf.square(y_true[:,3]-y_pred[:,3])))\n",
    "def ar(y_true, y_pred):\n",
    "    mask = tf.cast(y_pred[1:,3] > y_true[:-1,3],tf.float32)\n",
    "    return np.mean((y_true[1:,3]-y_true[:-1,3])*mask)"
   ]
  },
  {
   "cell_type": "code",
   "execution_count": 3,
   "id": "8d275e40",
   "metadata": {},
   "outputs": [],
   "source": [
    "def add_Ma(df, window=5):\n",
    "    for i in range(window, df.shape[0]):\n",
    "        sum = 0.0\n",
    "        for k in range(1, window+1):\n",
    "            sum += df.iloc[i-k, 4]\n",
    "        df.loc[df.index[i], 'Ma'] = np.round(sum/window, 6)\n",
    "    return df[window:]"
   ]
  },
  {
   "cell_type": "code",
   "execution_count": 4,
   "id": "b209d903",
   "metadata": {},
   "outputs": [],
   "source": [
    "def createDataset(dataset, look_back, n_features):\n",
    "    dataX = np.zeros([len(dataset)-look_back, look_back, n_features])\n",
    "    dataY = np.zeros([len(dataset)-look_back, n_features])\n",
    "    data = dataset.drop(columns='Date').to_numpy()\n",
    "    print(data.shape)\n",
    "    for i in range(0, len(data)-look_back):\n",
    "        dataX[i] = data[i:i+look_back]\n",
    "        dataY[i] = data[i+look_back]\n",
    "    mean = dataX.mean(axis=1)\n",
    "    std = dataX.std(axis=1)\n",
    "    dataX = (dataX - mean[:,None,:])/std[:,None,:]\n",
    "    dataY = (dataY - mean)/std\n",
    "    return dataX, dataY, mean, std\n",
    "def plot_frame(sequence, target, mean, std, model):\n",
    "    y_pred = model.predict(sequence)\n",
    "    y_pred_real = y_pred*std + mean\n",
    "    y_true = target\n",
    "    y_true_real = y_true*std + mean\n",
    "    \n",
    "    plt.figure()\n",
    "    plt.title(\"closing price\")\n",
    "    plt.plot(y_true_real[...,3], label=\"true\")\n",
    "    plt.plot(y_pred_real[...,3], label=\"prediction\")\n",
    "    plt.legend()\n",
    "    plt.show()\n",
    "    return y_pred_real, y_true_real"
   ]
  },
  {
   "cell_type": "code",
   "execution_count": 5,
   "id": "ec70e7ec",
   "metadata": {},
   "outputs": [
    {
     "name": "stdout",
     "output_type": "stream",
     "text": [
      "[*********************100%***********************]  1 of 1 completed\n"
     ]
    },
    {
     "data": {
      "text/html": [
       "<div>\n",
       "<style scoped>\n",
       "    .dataframe tbody tr th:only-of-type {\n",
       "        vertical-align: middle;\n",
       "    }\n",
       "\n",
       "    .dataframe tbody tr th {\n",
       "        vertical-align: top;\n",
       "    }\n",
       "\n",
       "    .dataframe thead th {\n",
       "        text-align: right;\n",
       "    }\n",
       "</style>\n",
       "<table border=\"1\" class=\"dataframe\">\n",
       "  <thead>\n",
       "    <tr style=\"text-align: right;\">\n",
       "      <th></th>\n",
       "      <th>Date</th>\n",
       "      <th>Open</th>\n",
       "      <th>High</th>\n",
       "      <th>Low</th>\n",
       "      <th>Close</th>\n",
       "      <th>Adj Close</th>\n",
       "      <th>Volume</th>\n",
       "      <th>Ma</th>\n",
       "    </tr>\n",
       "  </thead>\n",
       "  <tbody>\n",
       "    <tr>\n",
       "      <th>5</th>\n",
       "      <td>2021-01-11</td>\n",
       "      <td>129.190002</td>\n",
       "      <td>130.169998</td>\n",
       "      <td>128.500000</td>\n",
       "      <td>128.979996</td>\n",
       "      <td>127.079964</td>\n",
       "      <td>100384500</td>\n",
       "      <td>129.998000</td>\n",
       "    </tr>\n",
       "    <tr>\n",
       "      <th>6</th>\n",
       "      <td>2021-01-12</td>\n",
       "      <td>128.500000</td>\n",
       "      <td>129.690002</td>\n",
       "      <td>126.860001</td>\n",
       "      <td>128.800003</td>\n",
       "      <td>126.902626</td>\n",
       "      <td>91951100</td>\n",
       "      <td>129.911998</td>\n",
       "    </tr>\n",
       "    <tr>\n",
       "      <th>7</th>\n",
       "      <td>2021-01-13</td>\n",
       "      <td>128.759995</td>\n",
       "      <td>131.449997</td>\n",
       "      <td>128.490005</td>\n",
       "      <td>130.889999</td>\n",
       "      <td>128.961838</td>\n",
       "      <td>88636800</td>\n",
       "      <td>129.470000</td>\n",
       "    </tr>\n",
       "    <tr>\n",
       "      <th>8</th>\n",
       "      <td>2021-01-14</td>\n",
       "      <td>130.800003</td>\n",
       "      <td>131.000000</td>\n",
       "      <td>128.759995</td>\n",
       "      <td>128.910004</td>\n",
       "      <td>127.011002</td>\n",
       "      <td>90221800</td>\n",
       "      <td>130.328000</td>\n",
       "    </tr>\n",
       "    <tr>\n",
       "      <th>9</th>\n",
       "      <td>2021-01-15</td>\n",
       "      <td>128.779999</td>\n",
       "      <td>130.220001</td>\n",
       "      <td>127.000000</td>\n",
       "      <td>127.139999</td>\n",
       "      <td>125.267075</td>\n",
       "      <td>111598500</td>\n",
       "      <td>129.926001</td>\n",
       "    </tr>\n",
       "    <tr>\n",
       "      <th>...</th>\n",
       "      <td>...</td>\n",
       "      <td>...</td>\n",
       "      <td>...</td>\n",
       "      <td>...</td>\n",
       "      <td>...</td>\n",
       "      <td>...</td>\n",
       "      <td>...</td>\n",
       "      <td>...</td>\n",
       "    </tr>\n",
       "    <tr>\n",
       "      <th>246</th>\n",
       "      <td>2021-12-23</td>\n",
       "      <td>175.850006</td>\n",
       "      <td>176.850006</td>\n",
       "      <td>175.270004</td>\n",
       "      <td>176.279999</td>\n",
       "      <td>174.753906</td>\n",
       "      <td>68356600</td>\n",
       "      <td>172.356000</td>\n",
       "    </tr>\n",
       "    <tr>\n",
       "      <th>247</th>\n",
       "      <td>2021-12-27</td>\n",
       "      <td>177.089996</td>\n",
       "      <td>180.419998</td>\n",
       "      <td>177.070007</td>\n",
       "      <td>180.330002</td>\n",
       "      <td>178.768860</td>\n",
       "      <td>74919600</td>\n",
       "      <td>173.160001</td>\n",
       "    </tr>\n",
       "    <tr>\n",
       "      <th>248</th>\n",
       "      <td>2021-12-28</td>\n",
       "      <td>180.160004</td>\n",
       "      <td>181.330002</td>\n",
       "      <td>178.529999</td>\n",
       "      <td>179.289993</td>\n",
       "      <td>177.737854</td>\n",
       "      <td>79144300</td>\n",
       "      <td>174.998001</td>\n",
       "    </tr>\n",
       "    <tr>\n",
       "      <th>249</th>\n",
       "      <td>2021-12-29</td>\n",
       "      <td>179.330002</td>\n",
       "      <td>180.630005</td>\n",
       "      <td>178.139999</td>\n",
       "      <td>179.380005</td>\n",
       "      <td>177.827057</td>\n",
       "      <td>62348900</td>\n",
       "      <td>176.906000</td>\n",
       "    </tr>\n",
       "    <tr>\n",
       "      <th>250</th>\n",
       "      <td>2021-12-30</td>\n",
       "      <td>179.470001</td>\n",
       "      <td>180.570007</td>\n",
       "      <td>178.089996</td>\n",
       "      <td>178.199997</td>\n",
       "      <td>176.657288</td>\n",
       "      <td>59773000</td>\n",
       "      <td>178.184000</td>\n",
       "    </tr>\n",
       "  </tbody>\n",
       "</table>\n",
       "<p>246 rows × 8 columns</p>\n",
       "</div>"
      ],
      "text/plain": [
       "          Date        Open        High         Low       Close   Adj Close  \\\n",
       "5   2021-01-11  129.190002  130.169998  128.500000  128.979996  127.079964   \n",
       "6   2021-01-12  128.500000  129.690002  126.860001  128.800003  126.902626   \n",
       "7   2021-01-13  128.759995  131.449997  128.490005  130.889999  128.961838   \n",
       "8   2021-01-14  130.800003  131.000000  128.759995  128.910004  127.011002   \n",
       "9   2021-01-15  128.779999  130.220001  127.000000  127.139999  125.267075   \n",
       "..         ...         ...         ...         ...         ...         ...   \n",
       "246 2021-12-23  175.850006  176.850006  175.270004  176.279999  174.753906   \n",
       "247 2021-12-27  177.089996  180.419998  177.070007  180.330002  178.768860   \n",
       "248 2021-12-28  180.160004  181.330002  178.529999  179.289993  177.737854   \n",
       "249 2021-12-29  179.330002  180.630005  178.139999  179.380005  177.827057   \n",
       "250 2021-12-30  179.470001  180.570007  178.089996  178.199997  176.657288   \n",
       "\n",
       "        Volume          Ma  \n",
       "5    100384500  129.998000  \n",
       "6     91951100  129.911998  \n",
       "7     88636800  129.470000  \n",
       "8     90221800  130.328000  \n",
       "9    111598500  129.926001  \n",
       "..         ...         ...  \n",
       "246   68356600  172.356000  \n",
       "247   74919600  173.160001  \n",
       "248   79144300  174.998001  \n",
       "249   62348900  176.906000  \n",
       "250   59773000  178.184000  \n",
       "\n",
       "[246 rows x 8 columns]"
      ]
     },
     "execution_count": 5,
     "metadata": {},
     "output_type": "execute_result"
    }
   ],
   "source": [
    "look_back=5\n",
    "n_sequence = look_back\n",
    "n_features = 7\n",
    "stock_code = \"AAPL\"\n",
    "start = dt.datetime(2021, 1, 1)\n",
    "end = dt.datetime(2021, 12, 31)\n",
    "raw_data = pdr.get_data_yahoo(stock_code, start, end)\n",
    "df = raw_data.dropna();\n",
    "df = df.reset_index(level=0)\n",
    "df = add_Ma(df, look_back)\n",
    "df"
   ]
  },
  {
   "cell_type": "code",
   "execution_count": 6,
   "id": "f2104fb9",
   "metadata": {},
   "outputs": [
    {
     "name": "stdout",
     "output_type": "stream",
     "text": [
      "(246, 7)\n"
     ]
    }
   ],
   "source": [
    "x, y, mean, std = createDataset(df, look_back, n_features)\n",
    "generator = keras.models.load_model(\"rnn.h5\", custom_objects={\"mse\": mse , \"mae\": mae, \"mape\": mape, \"rmse\": rmse, \"ar\": ar})"
   ]
  },
  {
   "cell_type": "code",
   "execution_count": 7,
   "id": "42260596",
   "metadata": {},
   "outputs": [
    {
     "name": "stdout",
     "output_type": "stream",
     "text": [
      "8/8 [==============================] - 0s 2ms/step\n"
     ]
    },
    {
     "data": {
      "image/png": "[encoded data removed]",
      "text/plain": [
       "<Figure size 640x480 with 1 Axes>"
      ]
     },
     "metadata": {},
     "output_type": "display_data"
    }
   ],
   "source": [
    "y_pred = generator.predict(x)\n",
    "y_pred_real = y_pred*std + mean\n",
    "y_true = y\n",
    "y_true_real = y_true*std + mean\n",
    "\n",
    "plt.figure()\n",
    "plt.title(\"closing price\")\n",
    "plt.plot(y_true_real[...,3], label=\"true\")\n",
    "plt.plot(y_pred_real[...,3], label=\"prediction\")\n",
    "plt.legend()\n",
    "plt.show()"
   ]
  },
  {
   "cell_type": "code",
   "execution_count": 8,
   "id": "5063e16c",
   "metadata": {},
   "outputs": [
    {
     "name": "stdout",
     "output_type": "stream",
     "text": [
      "6.068703687066995\n",
      "1.8801424574623438\n",
      "0.013307474947697417\n",
      "2.463473906309339\n",
      "0.065458104\n"
     ]
    }
   ],
   "source": [
    "print(mse(y_true_real, y_pred_real))\n",
    "print(mae(y_true_real, y_pred_real))\n",
    "print(mape(y_true_real, y_pred_real))\n",
    "print(rmse(y_true_real, y_pred_real))\n",
    "print(ar(y_true_real, y_pred_real))"
   ]
  },
  {
   "cell_type": "code",
   "execution_count": 9,
   "id": "de637165",
   "metadata": {},
   "outputs": [
    {
     "data": {
      "text/plain": [
       "(241, 7)"
      ]
     },
     "execution_count": 9,
     "metadata": {},
     "output_type": "execute_result"
    }
   ],
   "source": [
    "y_pred_real.shape"
   ]
  },
  {
   "cell_type": "code",
   "execution_count": 10,
   "id": "1b7250df",
   "metadata": {},
   "outputs": [
    {
     "data": {
      "text/plain": [
       "(246, 8)"
      ]
     },
     "execution_count": 10,
     "metadata": {},
     "output_type": "execute_result"
    }
   ],
   "source": [
    "df.shape"
   ]
  },
  {
   "cell_type": "code",
   "execution_count": 11,
   "id": "03ebbbe8",
   "metadata": {},
   "outputs": [
    {
     "name": "stdout",
     "output_type": "stream",
     "text": [
      "[*********************100%***********************]  1 of 1 completed\n",
      "(246, 7)\n",
      "8/8 [==============================] - 0s 2ms/step\n",
      "[*********************100%***********************]  1 of 1 completed\n",
      "(246, 7)\n",
      "8/8 [==============================] - 0s 2ms/step\n",
      "[*********************100%***********************]  1 of 1 completed\n",
      "(246, 7)\n",
      "8/8 [==============================] - 0s 2ms/step\n",
      "[*********************100%***********************]  1 of 1 completed\n",
      "(246, 7)\n",
      "8/8 [==============================] - 0s 1ms/step\n",
      "[*********************100%***********************]  1 of 1 completed\n",
      "(246, 7)\n",
      "8/8 [==============================] - 1s 4ms/step\n",
      "[*********************100%***********************]  1 of 1 completed\n",
      "(246, 7)\n",
      "8/8 [==============================] - 0s 2ms/step\n"
     ]
    },
    {
     "data": {
      "text/html": [
       "<div>\n",
       "<style scoped>\n",
       "    .dataframe tbody tr th:only-of-type {\n",
       "        vertical-align: middle;\n",
       "    }\n",
       "\n",
       "    .dataframe tbody tr th {\n",
       "        vertical-align: top;\n",
       "    }\n",
       "\n",
       "    .dataframe thead th {\n",
       "        text-align: right;\n",
       "    }\n",
       "</style>\n",
       "<table border=\"1\" class=\"dataframe\">\n",
       "  <thead>\n",
       "    <tr style=\"text-align: right;\">\n",
       "      <th></th>\n",
       "      <th>mse</th>\n",
       "      <th>mae</th>\n",
       "      <th>mape</th>\n",
       "      <th>rmse</th>\n",
       "    </tr>\n",
       "  </thead>\n",
       "  <tbody>\n",
       "    <tr>\n",
       "      <th>dcbilstm_ffnn_5.h5</th>\n",
       "      <td>5.239003</td>\n",
       "      <td>1.808994</td>\n",
       "      <td>0.012825</td>\n",
       "      <td>2.288887</td>\n",
       "    </tr>\n",
       "    <tr>\n",
       "      <th>lstm.h5</th>\n",
       "      <td>6.183977</td>\n",
       "      <td>1.893580</td>\n",
       "      <td>0.013448</td>\n",
       "      <td>2.486760</td>\n",
       "    </tr>\n",
       "    <tr>\n",
       "      <th>gru.h5</th>\n",
       "      <td>5.710591</td>\n",
       "      <td>1.795904</td>\n",
       "      <td>0.012784</td>\n",
       "      <td>2.389684</td>\n",
       "    </tr>\n",
       "    <tr>\n",
       "      <th>dcbilstm.h5</th>\n",
       "      <td>5.747632</td>\n",
       "      <td>1.819110</td>\n",
       "      <td>0.012865</td>\n",
       "      <td>2.397422</td>\n",
       "    </tr>\n",
       "    <tr>\n",
       "      <th>bilstm.h5</th>\n",
       "      <td>5.933614</td>\n",
       "      <td>1.844392</td>\n",
       "      <td>0.013086</td>\n",
       "      <td>2.435901</td>\n",
       "    </tr>\n",
       "    <tr>\n",
       "      <th>rnn.h5</th>\n",
       "      <td>6.068705</td>\n",
       "      <td>1.880142</td>\n",
       "      <td>0.013307</td>\n",
       "      <td>2.463474</td>\n",
       "    </tr>\n",
       "  </tbody>\n",
       "</table>\n",
       "</div>"
      ],
      "text/plain": [
       "                         mse       mae      mape      rmse\n",
       "dcbilstm_ffnn_5.h5  5.239003  1.808994  0.012825  2.288887\n",
       "lstm.h5             6.183977  1.893580  0.013448  2.486760\n",
       "gru.h5              5.710591  1.795904  0.012784  2.389684\n",
       "dcbilstm.h5         5.747632  1.819110  0.012865  2.397422\n",
       "bilstm.h5           5.933614  1.844392  0.013086  2.435901\n",
       "rnn.h5              6.068705  1.880142  0.013307  2.463474"
      ]
     },
     "execution_count": 11,
     "metadata": {},
     "output_type": "execute_result"
    }
   ],
   "source": [
    "# cột: tên metric\n",
    "# Dòng: Tên files\n",
    "table = []\n",
    "models_files = ['dcbilstm_ffnn_5.h5', 'lstm.h5', 'gru.h5', 'dcbilstm.h5', 'bilstm.h5', 'rnn.h5']\n",
    "for model_file in models_files:\n",
    "    look_back=5\n",
    "    n_sequence = look_back\n",
    "    n_features = 7\n",
    "    stock_code = \"AAPL\"\n",
    "    start = dt.datetime(2021, 1, 1)\n",
    "    end = dt.datetime(2021, 12, 31)\n",
    "    raw_data = pdr.get_data_yahoo(stock_code, start, end)\n",
    "    df = raw_data.dropna();\n",
    "    df = df.reset_index(level=0)\n",
    "    df = add_Ma(df, look_back)\n",
    "    \n",
    "    x, y, mean, std = createDataset(df, look_back, n_features)\n",
    "    generator = keras.models.load_model(model_file, custom_objects={\"mse\": mse , \"mae\": mae, \"mape\": mape, \"rmse\": rmse, \"ar\": ar})\n",
    "    \n",
    "    y_pred = generator.predict(x)\n",
    "    y_pred_real = y_pred*std + mean\n",
    "    y_true = y\n",
    "    y_true_real = y_true*std + mean\n",
    "    \n",
    "    row = [mse(y_true_real, y_pred_real), mae(y_true_real, y_pred_real), mape(y_true_real, y_pred_real), rmse(y_true_real, y_pred_real)]\n",
    "    table.append(row)\n",
    "result = pd.DataFrame(table, index=models_files, columns=['mse', 'mae', 'mape', 'rmse'])\n",
    "result"
   ]
  },
  {
   "cell_type": "code",
   "execution_count": null,
   "id": "d02d1c6d",
   "metadata": {},
   "outputs": [],
   "source": []
  }
 ],
 "metadata": {
  "kernelspec": {
   "display_name": "Python 3 (ipykernel)",
   "language": "python",
   "name": "python3"
  },
  "language_info": {
   "codemirror_mode": {
    "name": "ipython",
    "version": 3
   },
   "file_extension": ".py",
   "mimetype": "text/x-python",
   "name": "python",
   "nbconvert_exporter": "python",
   "pygments_lexer": "ipython3",
   "version": "3.9.13"
  }
 },
 "nbformat": 4,
 "nbformat_minor": 5
}
